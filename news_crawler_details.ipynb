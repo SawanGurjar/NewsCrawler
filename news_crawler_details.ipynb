{
  "nbformat": 4,
  "nbformat_minor": 0,
  "metadata": {
    "colab": {
      "name": "news_crawler_splitted.ipynb",
      "provenance": []
    },
    "kernelspec": {
      "name": "python3",
      "display_name": "Python 3"
    },
    "language_info": {
      "name": "python"
    },
    "widgets": {
      "application/vnd.jupyter.widget-state+json": {
        "7df67e89cad145d98d33b599df9090fc": {
          "model_module": "@jupyter-widgets/controls",
          "model_name": "TextModel",
          "model_module_version": "1.5.0",
          "state": {
            "_view_name": "TextView",
            "style": "IPY_MODEL_0aacda2d5e064a72ac6e18fa020565d5",
            "_dom_classes": [],
            "description": "",
            "_model_name": "TextModel",
            "placeholder": "​",
            "_view_module": "@jupyter-widgets/controls",
            "_model_module_version": "1.5.0",
            "value": "Facebook",
            "_view_count": null,
            "disabled": false,
            "_view_module_version": "1.5.0",
            "continuous_update": true,
            "description_tooltip": null,
            "_model_module": "@jupyter-widgets/controls",
            "layout": "IPY_MODEL_6d79d88a5c154a43aa2d56038adb2bae"
          }
        },
        "0aacda2d5e064a72ac6e18fa020565d5": {
          "model_module": "@jupyter-widgets/controls",
          "model_name": "DescriptionStyleModel",
          "model_module_version": "1.5.0",
          "state": {
            "_view_name": "StyleView",
            "_model_name": "DescriptionStyleModel",
            "description_width": "",
            "_view_module": "@jupyter-widgets/base",
            "_model_module_version": "1.5.0",
            "_view_count": null,
            "_view_module_version": "1.2.0",
            "_model_module": "@jupyter-widgets/controls"
          }
        },
        "6d79d88a5c154a43aa2d56038adb2bae": {
          "model_module": "@jupyter-widgets/base",
          "model_name": "LayoutModel",
          "model_module_version": "1.2.0",
          "state": {
            "_view_name": "LayoutView",
            "grid_template_rows": null,
            "right": null,
            "justify_content": null,
            "_view_module": "@jupyter-widgets/base",
            "overflow": null,
            "_model_module_version": "1.2.0",
            "_view_count": null,
            "flex_flow": null,
            "width": null,
            "min_width": null,
            "border": null,
            "align_items": null,
            "bottom": null,
            "_model_module": "@jupyter-widgets/base",
            "top": null,
            "grid_column": null,
            "overflow_y": null,
            "overflow_x": null,
            "grid_auto_flow": null,
            "grid_area": null,
            "grid_template_columns": null,
            "flex": null,
            "_model_name": "LayoutModel",
            "justify_items": null,
            "grid_row": null,
            "max_height": null,
            "align_content": null,
            "visibility": null,
            "align_self": null,
            "height": null,
            "min_height": null,
            "padding": null,
            "grid_auto_rows": null,
            "grid_gap": null,
            "max_width": null,
            "order": null,
            "_view_module_version": "1.2.0",
            "grid_template_areas": null,
            "object_position": null,
            "object_fit": null,
            "grid_auto_columns": null,
            "margin": null,
            "display": null,
            "left": null
          }
        }
      }
    }
  },
  "cells": [
    {
      "cell_type": "markdown",
      "metadata": {
        "id": "vIH7_NeUz1nn"
      },
      "source": [
        "# News Crawler Application\n",
        "*This is an interactive Jupyter Notebook which retrieves top news about a company (as asked by the user). Powered by News API*\n",
        "\n",
        "This project was imagined after Facebook's stock price **dropped about 40%** between the closing on July 25, 2018 and opening of July 26, 2018. One of the main factors in the sudden drop in facebook's stock price was it's earning report missing expectations on revenue and showing a slowing user growth. This project is an attempt to help an investor keep track of big news about companies in an attempt to protect them from such a loss."
      ]
    },
    {
      "cell_type": "markdown",
      "metadata": {
        "id": "no9XUNFAytwq"
      },
      "source": [
        "The following describes the workflow behind the application and how it captures major new sources at any given point of time."
      ]
    },
    {
      "cell_type": "markdown",
      "metadata": {
        "id": "g60-PaPo9G8-"
      },
      "source": [
        "#Requirements"
      ]
    },
    {
      "cell_type": "code",
      "metadata": {
        "colab": {
          "base_uri": "https://localhost:8080/"
        },
        "id": "cft4gy4K9Kuk",
        "outputId": "80150d01-8954-48ea-a33f-1648ef2e86d5"
      },
      "source": [
        "pip install newsapi-python"
      ],
      "execution_count": 13,
      "outputs": [
        {
          "output_type": "stream",
          "name": "stdout",
          "text": [
            "Collecting newsapi-python\n",
            "  Downloading newsapi_python-0.2.6-py2.py3-none-any.whl (7.9 kB)\n",
            "Requirement already satisfied: requests<3.0.0 in /usr/local/lib/python3.7/dist-packages (from newsapi-python) (2.23.0)\n",
            "Requirement already satisfied: idna<3,>=2.5 in /usr/local/lib/python3.7/dist-packages (from requests<3.0.0->newsapi-python) (2.10)\n",
            "Requirement already satisfied: chardet<4,>=3.0.2 in /usr/local/lib/python3.7/dist-packages (from requests<3.0.0->newsapi-python) (3.0.4)\n",
            "Requirement already satisfied: certifi>=2017.4.17 in /usr/local/lib/python3.7/dist-packages (from requests<3.0.0->newsapi-python) (2021.5.30)\n",
            "Requirement already satisfied: urllib3!=1.25.0,!=1.25.1,<1.26,>=1.21.1 in /usr/local/lib/python3.7/dist-packages (from requests<3.0.0->newsapi-python) (1.24.3)\n",
            "Installing collected packages: newsapi-python\n",
            "Successfully installed newsapi-python-0.2.6\n"
          ]
        }
      ]
    },
    {
      "cell_type": "markdown",
      "metadata": {
        "id": "KEKox1bD0Qpx"
      },
      "source": [
        "# All the imports"
      ]
    },
    {
      "cell_type": "markdown",
      "metadata": {
        "id": "0X2xcIdR2D8y"
      },
      "source": [
        "### For user input"
      ]
    },
    {
      "cell_type": "code",
      "metadata": {
        "id": "JgQMptdW2zNl"
      },
      "source": [
        "from ipywidgets import widgets\n",
        "from ipywidgets import *"
      ],
      "execution_count": 6,
      "outputs": []
    },
    {
      "cell_type": "markdown",
      "metadata": {
        "id": "LkuTW0uU3IHM"
      },
      "source": [
        "**Widgets** are eventful **python objects** that have a representation in the browser, often as a control like a slider, textbox, etc.\n",
        "You can use widgets to build **interactive GUIs for your notebooks**.\n",
        "You can also use widgets to synchronize stateful and stateless information between Python and JavaScript."
      ]
    },
    {
      "cell_type": "code",
      "metadata": {
        "id": "LRo2fPa-4CcW"
      },
      "source": [
        "from traitlets import *"
      ],
      "execution_count": 7,
      "outputs": []
    },
    {
      "cell_type": "markdown",
      "metadata": {
        "id": "6CrrIiOf5RrY"
      },
      "source": [
        "**Traitlets** is a framework that lets Python classes have attributes with type checking, dynamically calculated default values, and ‘on change’ callbacks.\n",
        "The package also includes a mechanism to use traitlets for configuration, loading values from files or from command line arguments. This is a distinct layer on top of traitlets, so you can use traitlets in your code without using the configuration machinery."
      ]
    },
    {
      "cell_type": "code",
      "metadata": {
        "id": "5G0dAb5G5oOi"
      },
      "source": [
        "from IPython.display import display, Markdown"
      ],
      "execution_count": 8,
      "outputs": []
    },
    {
      "cell_type": "markdown",
      "metadata": {
        "id": "u-SEQ5Hb5tS6"
      },
      "source": [
        "To display in a markdown format"
      ]
    },
    {
      "cell_type": "code",
      "metadata": {
        "id": "fi3XPeMc7odJ"
      },
      "source": [
        "import unicodedata"
      ],
      "execution_count": 9,
      "outputs": []
    },
    {
      "cell_type": "markdown",
      "metadata": {
        "id": "-tVo7WYY7uT7"
      },
      "source": [
        "This module provides access to the Unicode Character Database (UCD) which defines character properties for all Unicode characters.\n",
        "\n",
        "(To convert unicode to string) "
      ]
    },
    {
      "cell_type": "code",
      "metadata": {
        "id": "y8ztc7tE7_5B"
      },
      "source": [
        "from newsapi import NewsApiClient"
      ],
      "execution_count": 14,
      "outputs": []
    },
    {
      "cell_type": "markdown",
      "metadata": {
        "id": "I3Fr9k5b8asJ"
      },
      "source": [
        "Use the **unofficial Python client library** to *integrate News API into your Python application* without having to make HTTP requests directly.\n",
        "(NewsApiClient to find URLs of all the trending news)"
      ]
    },
    {
      "cell_type": "code",
      "metadata": {
        "id": "uLHHR5Zn9slc"
      },
      "source": [
        "import requests"
      ],
      "execution_count": 15,
      "outputs": []
    },
    {
      "cell_type": "markdown",
      "metadata": {
        "id": "1m5Jz33590HH"
      },
      "source": [
        "Requests allows you to send HTTP/1.1 requests extremely easily. There’s no need to manually add query strings to your URLs, or to form-encode your PUT & POST data — but nowadays, just use the json method!\n",
        "(Requests is used to get an html markup from a URL)"
      ]
    },
    {
      "cell_type": "code",
      "metadata": {
        "id": "jDaJGi2D-Lm2"
      },
      "source": [
        "from bs4 import BeautifulSoup"
      ],
      "execution_count": 16,
      "outputs": []
    },
    {
      "cell_type": "markdown",
      "metadata": {
        "id": "aOs1A_Vs-QmI"
      },
      "source": [
        "Beautiful Soup is a library that makes it easy **to scrape information from web pages**. It sits atop an HTML or XML parser, providing Pythonic idioms for iterating, searching, and modifying the parse tree."
      ]
    },
    {
      "cell_type": "markdown",
      "metadata": {
        "id": "ayvn3Lysytwt"
      },
      "source": [
        "# Ask user about their choice of the topic\n",
        "\n",
        "We'll start by asking the user about what topic they're interested in. Run the cell and enter a name of a company and press _enter_"
      ]
    },
    {
      "cell_type": "markdown",
      "metadata": {
        "id": "q6maEcsg-mGz"
      },
      "source": [
        "### Get user choice about the topic"
      ]
    },
    {
      "cell_type": "code",
      "metadata": {
        "colab": {
          "base_uri": "https://localhost:8080/",
          "height": 66,
          "referenced_widgets": [
            "7df67e89cad145d98d33b599df9090fc",
            "0aacda2d5e064a72ac6e18fa020565d5",
            "6d79d88a5c154a43aa2d56038adb2bae"
          ]
        },
        "id": "fFT2pkTG_eLV",
        "outputId": "d1556121-6fd8-4316-be75-9948e2002b30"
      },
      "source": [
        "text_input = widgets.Text()\n",
        "print(\"Enter the topic you want to find news about: \")\n",
        "display(text_input)"
      ],
      "execution_count": 17,
      "outputs": [
        {
          "output_type": "stream",
          "name": "stdout",
          "text": [
            "Enter the topic you want to find news about: \n"
          ]
        },
        {
          "output_type": "display_data",
          "data": {
            "application/vnd.jupyter.widget-view+json": {
              "model_id": "7df67e89cad145d98d33b599df9090fc",
              "version_minor": 0,
              "version_major": 2
            },
            "text/plain": [
              "Text(value='')"
            ]
          },
          "metadata": {}
        }
      ]
    },
    {
      "cell_type": "markdown",
      "metadata": {
        "id": "2lY9Dijp_ppK"
      },
      "source": [
        "### Confirm user choice"
      ]
    },
    {
      "cell_type": "code",
      "metadata": {
        "id": "7ni9wUrR_0YA"
      },
      "source": [
        "def handle_submit(sender):\n",
        "    print(\"Alright, let's show you news about\", text_input.value)\n",
        "    \n",
        "text_input.on_submit(handle_submit)"
      ],
      "execution_count": 20,
      "outputs": []
    },
    {
      "cell_type": "markdown",
      "metadata": {
        "id": "_MnOdeg2AAYZ"
      },
      "source": [
        "Store user's topic choice for use in the rest of the notebook. (Note: need to convert from unicode to string for ease of use later)"
      ]
    },
    {
      "cell_type": "markdown",
      "metadata": {
        "id": "iG0wjprCALpa"
      },
      "source": [
        "### Convert user's topic preference into a string ready for API query"
      ]
    },
    {
      "cell_type": "code",
      "metadata": {
        "id": "lEbfPtRtAVuW"
      },
      "source": [
        "# company_name = unicodedata.normalize('NFKD', text_input.value).encode('ascii','ignore')\n",
        "# company_name = text_input.value.encode('ascii','ignore')"
      ],
      "execution_count": 30,
      "outputs": []
    },
    {
      "cell_type": "markdown",
      "metadata": {
        "id": "T3UNwgHsytww"
      },
      "source": [
        "# Find top news article URLs\n",
        "\n",
        "Next, we'll use the **News API** to find the top trending news about the company from CNBC and BBC News (in order to find a diversified, yet reputable mix of news articles). Currently we're only fetching 5 news articles, but that value can be changed."
      ]
    },
    {
      "cell_type": "markdown",
      "metadata": {
        "id": "Mcn8s8f1AzFP"
      },
      "source": [
        "### Call to NewsApi"
      ]
    },
    {
      "cell_type": "code",
      "metadata": {
        "id": "H2Imb1jRAaSE"
      },
      "source": [
        "newsapi = NewsApiClient(api_key='27a062ac4e3340bead02d732875bddff')\n",
        "# q = topic_name\n",
        "all_articles = newsapi.get_everything(q = 'google',\n",
        "                                      sources='bloomberg',\n",
        "                                      language='en',\n",
        "                                      sort_by='relevancy',\n",
        "                                      page_size = 5)"
      ],
      "execution_count": 36,
      "outputs": []
    },
    {
      "cell_type": "markdown",
      "metadata": {
        "id": "sS6BWhwcAx4x"
      },
      "source": [
        "### Create a list of URLs to crawl through from the API"
      ]
    },
    {
      "cell_type": "code",
      "metadata": {
        "id": "hB80uF5hG6UP"
      },
      "source": [
        "list_url = []\n",
        "for item in all_articles['articles']:\n",
        "    list_url.append(unicodedata.normalize('NFKD', item['url']).encode('ascii','ignore'))"
      ],
      "execution_count": 38,
      "outputs": []
    },
    {
      "cell_type": "markdown",
      "metadata": {
        "id": "h6lxn4M4ytwy"
      },
      "source": [
        "### Iterate through URLs and capture text\n",
        "\n",
        "Here we'll utilize the beautiful soup library to parse through html content and store only the article content. For each url:\n",
        "1. We fetch the HTML\n",
        "2. Parse the HTML document using Beautiful Soup \n",
        "3. Find and store the content of news article inside the webpage"
      ]
    },
    {
      "cell_type": "code",
      "metadata": {
        "id": "Z-sdAgRRG-Qw"
      },
      "source": [
        "# Iterate through list of urls, capture text on each and make presentable\n",
        "article_content = []\n",
        "for i in list_url:\n",
        "    page = requests.get(i)\n",
        "    soup = BeautifulSoup(page.content, 'html.parser')\n",
        "    content = soup.find_all(['p'])\n",
        "    for line in content:\n",
        "        line_string = unicodedata.normalize('NFKD', line.get_text()).encode('ascii','ignore')\n",
        "        if (len(line_string)>20):\n",
        "            article_content.append(line_string)\n",
        "    article_content.append(',')"
      ],
      "execution_count": 39,
      "outputs": []
    },
    {
      "cell_type": "markdown",
      "metadata": {
        "id": "Oi0vCUXJytw0"
      },
      "source": [
        "### Display the articles\n",
        "\n",
        "Use the Display class to present the articles in Markdown"
      ]
    },
    {
      "cell_type": "code",
      "metadata": {
        "colab": {
          "base_uri": "https://localhost:8080/",
          "height": 397
        },
        "id": "-V6dn32VHLEH",
        "outputId": "a8108672-157a-4e10-97a7-27b423e5ec5f"
      },
      "source": [
        "counter = 1\n",
        "display(Markdown(\"# Article \" + str(counter)))\n",
        "for line in article_content:\n",
        "    if(line == ','):\n",
        "        counter = counter + 1\n",
        "        if (not(counter<=5)):\n",
        "            break;\n",
        "        display(Markdown(\"# Article \" + str(counter)))\n",
        "        continue\n",
        "    display(Markdown(line))"
      ],
      "execution_count": 40,
      "outputs": [
        {
          "output_type": "display_data",
          "data": {
            "text/markdown": "# Article 1",
            "text/plain": [
              "<IPython.core.display.Markdown object>"
            ]
          },
          "metadata": {}
        },
        {
          "output_type": "error",
          "ename": "TypeError",
          "evalue": "ignored",
          "traceback": [
            "\u001b[0;31m---------------------------------------------------------------------------\u001b[0m",
            "\u001b[0;31mTypeError\u001b[0m                                 Traceback (most recent call last)",
            "\u001b[0;32m<ipython-input-40-2320ed5e2cb3>\u001b[0m in \u001b[0;36m<module>\u001b[0;34m()\u001b[0m\n\u001b[1;32m      8\u001b[0m         \u001b[0mdisplay\u001b[0m\u001b[0;34m(\u001b[0m\u001b[0mMarkdown\u001b[0m\u001b[0;34m(\u001b[0m\u001b[0;34m\"# Article \"\u001b[0m \u001b[0;34m+\u001b[0m \u001b[0mstr\u001b[0m\u001b[0;34m(\u001b[0m\u001b[0mcounter\u001b[0m\u001b[0;34m)\u001b[0m\u001b[0;34m)\u001b[0m\u001b[0;34m)\u001b[0m\u001b[0;34m\u001b[0m\u001b[0;34m\u001b[0m\u001b[0m\n\u001b[1;32m      9\u001b[0m         \u001b[0;32mcontinue\u001b[0m\u001b[0;34m\u001b[0m\u001b[0;34m\u001b[0m\u001b[0m\n\u001b[0;32m---> 10\u001b[0;31m     \u001b[0mdisplay\u001b[0m\u001b[0;34m(\u001b[0m\u001b[0mMarkdown\u001b[0m\u001b[0;34m(\u001b[0m\u001b[0mline\u001b[0m\u001b[0;34m)\u001b[0m\u001b[0;34m)\u001b[0m\u001b[0;34m\u001b[0m\u001b[0;34m\u001b[0m\u001b[0m\n\u001b[0m",
            "\u001b[0;32m/usr/local/lib/python3.7/dist-packages/IPython/core/display.py\u001b[0m in \u001b[0;36m__init__\u001b[0;34m(self, data, url, filename)\u001b[0m\n\u001b[1;32m    612\u001b[0m \u001b[0;34m\u001b[0m\u001b[0m\n\u001b[1;32m    613\u001b[0m         \u001b[0mself\u001b[0m\u001b[0;34m.\u001b[0m\u001b[0mreload\u001b[0m\u001b[0;34m(\u001b[0m\u001b[0;34m)\u001b[0m\u001b[0;34m\u001b[0m\u001b[0;34m\u001b[0m\u001b[0m\n\u001b[0;32m--> 614\u001b[0;31m         \u001b[0mself\u001b[0m\u001b[0;34m.\u001b[0m\u001b[0m_check_data\u001b[0m\u001b[0;34m(\u001b[0m\u001b[0;34m)\u001b[0m\u001b[0;34m\u001b[0m\u001b[0;34m\u001b[0m\u001b[0m\n\u001b[0m\u001b[1;32m    615\u001b[0m \u001b[0;34m\u001b[0m\u001b[0m\n\u001b[1;32m    616\u001b[0m     \u001b[0;32mdef\u001b[0m \u001b[0m__repr__\u001b[0m\u001b[0;34m(\u001b[0m\u001b[0mself\u001b[0m\u001b[0;34m)\u001b[0m\u001b[0;34m:\u001b[0m\u001b[0;34m\u001b[0m\u001b[0;34m\u001b[0m\u001b[0m\n",
            "\u001b[0;32m/usr/local/lib/python3.7/dist-packages/IPython/core/display.py\u001b[0m in \u001b[0;36m_check_data\u001b[0;34m(self)\u001b[0m\n\u001b[1;32m    656\u001b[0m     \u001b[0;32mdef\u001b[0m \u001b[0m_check_data\u001b[0m\u001b[0;34m(\u001b[0m\u001b[0mself\u001b[0m\u001b[0;34m)\u001b[0m\u001b[0;34m:\u001b[0m\u001b[0;34m\u001b[0m\u001b[0;34m\u001b[0m\u001b[0m\n\u001b[1;32m    657\u001b[0m         \u001b[0;32mif\u001b[0m \u001b[0mself\u001b[0m\u001b[0;34m.\u001b[0m\u001b[0mdata\u001b[0m \u001b[0;32mis\u001b[0m \u001b[0;32mnot\u001b[0m \u001b[0;32mNone\u001b[0m \u001b[0;32mand\u001b[0m \u001b[0;32mnot\u001b[0m \u001b[0misinstance\u001b[0m\u001b[0;34m(\u001b[0m\u001b[0mself\u001b[0m\u001b[0;34m.\u001b[0m\u001b[0mdata\u001b[0m\u001b[0;34m,\u001b[0m \u001b[0mstring_types\u001b[0m\u001b[0;34m)\u001b[0m\u001b[0;34m:\u001b[0m\u001b[0;34m\u001b[0m\u001b[0;34m\u001b[0m\u001b[0m\n\u001b[0;32m--> 658\u001b[0;31m             \u001b[0;32mraise\u001b[0m \u001b[0mTypeError\u001b[0m\u001b[0;34m(\u001b[0m\u001b[0;34m\"%s expects text, not %r\"\u001b[0m \u001b[0;34m%\u001b[0m \u001b[0;34m(\u001b[0m\u001b[0mself\u001b[0m\u001b[0;34m.\u001b[0m\u001b[0m__class__\u001b[0m\u001b[0;34m.\u001b[0m\u001b[0m__name__\u001b[0m\u001b[0;34m,\u001b[0m \u001b[0mself\u001b[0m\u001b[0;34m.\u001b[0m\u001b[0mdata\u001b[0m\u001b[0;34m)\u001b[0m\u001b[0;34m)\u001b[0m\u001b[0;34m\u001b[0m\u001b[0;34m\u001b[0m\u001b[0m\n\u001b[0m\u001b[1;32m    659\u001b[0m \u001b[0;34m\u001b[0m\u001b[0m\n\u001b[1;32m    660\u001b[0m \u001b[0;32mclass\u001b[0m \u001b[0mPretty\u001b[0m\u001b[0;34m(\u001b[0m\u001b[0mTextDisplayObject\u001b[0m\u001b[0;34m)\u001b[0m\u001b[0;34m:\u001b[0m\u001b[0;34m\u001b[0m\u001b[0;34m\u001b[0m\u001b[0m\n",
            "\u001b[0;31mTypeError\u001b[0m: Markdown expects text, not b\"To continue, please click the box below to let us know you're not a robot.\""
          ]
        }
      ]
    },
    {
      "cell_type": "code",
      "metadata": {
        "id": "CD_dsbVKHQtd"
      },
      "source": [
        ""
      ],
      "execution_count": null,
      "outputs": []
    }
  ]
}